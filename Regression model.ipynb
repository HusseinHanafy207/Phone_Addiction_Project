{
 "cells": [
  {
   "cell_type": "code",
   "id": "initial_id",
   "metadata": {
    "collapsed": true,
    "ExecuteTime": {
     "end_time": "2025-04-24T13:18:36.326853Z",
     "start_time": "2025-04-24T13:18:36.322376Z"
    }
   },
   "source": [
    "import numpy as np\n",
    "import pandas as pd"
   ],
   "outputs": [],
   "execution_count": 17
  },
  {
   "metadata": {},
   "cell_type": "markdown",
   "source": "Read Data",
   "id": "f674bde84eb0cb78"
  },
  {
   "metadata": {
    "ExecuteTime": {
     "end_time": "2025-04-24T13:18:37.220940Z",
     "start_time": "2025-04-24T13:18:37.197385Z"
    }
   },
   "cell_type": "code",
   "source": "data=pd.read_csv('mental_health_and_technology_usage.csv')",
   "id": "6450c7ed4c4391e0",
   "outputs": [],
   "execution_count": 18
  },
  {
   "metadata": {},
   "cell_type": "markdown",
   "source": "Getting to know data",
   "id": "7af6f2c628b66a51"
  },
  {
   "metadata": {
    "ExecuteTime": {
     "end_time": "2025-04-24T13:18:38.395216Z",
     "start_time": "2025-04-24T13:18:38.382883Z"
    }
   },
   "cell_type": "code",
   "source": "data.head()",
   "id": "8d32e2283393b9e3",
   "outputs": [
    {
     "data": {
      "text/plain": [
       "      User_ID  Age  Gender  Technology_Usage_Hours  Social_Media_Usage_Hours  \\\n",
       "0  USER-00001   23  Female                    6.57                      6.00   \n",
       "1  USER-00002   21    Male                    3.01                      2.57   \n",
       "2  USER-00003   51    Male                    3.04                      6.14   \n",
       "3  USER-00004   25  Female                    3.84                      4.48   \n",
       "4  USER-00005   53    Male                    1.20                      0.56   \n",
       "\n",
       "   Gaming_Hours  Screen_Time_Hours Mental_Health_Status Stress_Level  \\\n",
       "0          0.68              12.36                 Good          Low   \n",
       "1          3.74               7.61                 Poor         High   \n",
       "2          1.26               3.16                 Fair         High   \n",
       "3          2.59              13.08            Excellent       Medium   \n",
       "4          0.29              12.63                 Good          Low   \n",
       "\n",
       "   Sleep_Hours  Physical_Activity_Hours Support_Systems_Access  \\\n",
       "0         8.01                     6.71                     No   \n",
       "1         7.28                     5.88                    Yes   \n",
       "2         8.04                     9.81                     No   \n",
       "3         5.62                     5.28                    Yes   \n",
       "4         5.55                     4.00                     No   \n",
       "\n",
       "  Work_Environment_Impact Online_Support_Usage  \n",
       "0                Negative                  Yes  \n",
       "1                Positive                   No  \n",
       "2                Negative                   No  \n",
       "3                Negative                  Yes  \n",
       "4                Positive                  Yes  "
      ],
      "text/html": [
       "<div>\n",
       "<style scoped>\n",
       "    .dataframe tbody tr th:only-of-type {\n",
       "        vertical-align: middle;\n",
       "    }\n",
       "\n",
       "    .dataframe tbody tr th {\n",
       "        vertical-align: top;\n",
       "    }\n",
       "\n",
       "    .dataframe thead th {\n",
       "        text-align: right;\n",
       "    }\n",
       "</style>\n",
       "<table border=\"1\" class=\"dataframe\">\n",
       "  <thead>\n",
       "    <tr style=\"text-align: right;\">\n",
       "      <th></th>\n",
       "      <th>User_ID</th>\n",
       "      <th>Age</th>\n",
       "      <th>Gender</th>\n",
       "      <th>Technology_Usage_Hours</th>\n",
       "      <th>Social_Media_Usage_Hours</th>\n",
       "      <th>Gaming_Hours</th>\n",
       "      <th>Screen_Time_Hours</th>\n",
       "      <th>Mental_Health_Status</th>\n",
       "      <th>Stress_Level</th>\n",
       "      <th>Sleep_Hours</th>\n",
       "      <th>Physical_Activity_Hours</th>\n",
       "      <th>Support_Systems_Access</th>\n",
       "      <th>Work_Environment_Impact</th>\n",
       "      <th>Online_Support_Usage</th>\n",
       "    </tr>\n",
       "  </thead>\n",
       "  <tbody>\n",
       "    <tr>\n",
       "      <th>0</th>\n",
       "      <td>USER-00001</td>\n",
       "      <td>23</td>\n",
       "      <td>Female</td>\n",
       "      <td>6.57</td>\n",
       "      <td>6.00</td>\n",
       "      <td>0.68</td>\n",
       "      <td>12.36</td>\n",
       "      <td>Good</td>\n",
       "      <td>Low</td>\n",
       "      <td>8.01</td>\n",
       "      <td>6.71</td>\n",
       "      <td>No</td>\n",
       "      <td>Negative</td>\n",
       "      <td>Yes</td>\n",
       "    </tr>\n",
       "    <tr>\n",
       "      <th>1</th>\n",
       "      <td>USER-00002</td>\n",
       "      <td>21</td>\n",
       "      <td>Male</td>\n",
       "      <td>3.01</td>\n",
       "      <td>2.57</td>\n",
       "      <td>3.74</td>\n",
       "      <td>7.61</td>\n",
       "      <td>Poor</td>\n",
       "      <td>High</td>\n",
       "      <td>7.28</td>\n",
       "      <td>5.88</td>\n",
       "      <td>Yes</td>\n",
       "      <td>Positive</td>\n",
       "      <td>No</td>\n",
       "    </tr>\n",
       "    <tr>\n",
       "      <th>2</th>\n",
       "      <td>USER-00003</td>\n",
       "      <td>51</td>\n",
       "      <td>Male</td>\n",
       "      <td>3.04</td>\n",
       "      <td>6.14</td>\n",
       "      <td>1.26</td>\n",
       "      <td>3.16</td>\n",
       "      <td>Fair</td>\n",
       "      <td>High</td>\n",
       "      <td>8.04</td>\n",
       "      <td>9.81</td>\n",
       "      <td>No</td>\n",
       "      <td>Negative</td>\n",
       "      <td>No</td>\n",
       "    </tr>\n",
       "    <tr>\n",
       "      <th>3</th>\n",
       "      <td>USER-00004</td>\n",
       "      <td>25</td>\n",
       "      <td>Female</td>\n",
       "      <td>3.84</td>\n",
       "      <td>4.48</td>\n",
       "      <td>2.59</td>\n",
       "      <td>13.08</td>\n",
       "      <td>Excellent</td>\n",
       "      <td>Medium</td>\n",
       "      <td>5.62</td>\n",
       "      <td>5.28</td>\n",
       "      <td>Yes</td>\n",
       "      <td>Negative</td>\n",
       "      <td>Yes</td>\n",
       "    </tr>\n",
       "    <tr>\n",
       "      <th>4</th>\n",
       "      <td>USER-00005</td>\n",
       "      <td>53</td>\n",
       "      <td>Male</td>\n",
       "      <td>1.20</td>\n",
       "      <td>0.56</td>\n",
       "      <td>0.29</td>\n",
       "      <td>12.63</td>\n",
       "      <td>Good</td>\n",
       "      <td>Low</td>\n",
       "      <td>5.55</td>\n",
       "      <td>4.00</td>\n",
       "      <td>No</td>\n",
       "      <td>Positive</td>\n",
       "      <td>Yes</td>\n",
       "    </tr>\n",
       "  </tbody>\n",
       "</table>\n",
       "</div>"
      ]
     },
     "execution_count": 19,
     "metadata": {},
     "output_type": "execute_result"
    }
   ],
   "execution_count": 19
  },
  {
   "metadata": {
    "ExecuteTime": {
     "end_time": "2025-04-24T13:18:39.158677Z",
     "start_time": "2025-04-24T13:18:39.153704Z"
    }
   },
   "cell_type": "code",
   "source": "data.shape",
   "id": "2da3a7d0e74b32e2",
   "outputs": [
    {
     "data": {
      "text/plain": [
       "(10000, 14)"
      ]
     },
     "execution_count": 20,
     "metadata": {},
     "output_type": "execute_result"
    }
   ],
   "execution_count": 20
  },
  {
   "metadata": {
    "ExecuteTime": {
     "end_time": "2025-04-24T13:18:39.738578Z",
     "start_time": "2025-04-24T13:18:39.728635Z"
    }
   },
   "cell_type": "code",
   "source": "data.info()",
   "id": "95db7a1255752234",
   "outputs": [
    {
     "name": "stdout",
     "output_type": "stream",
     "text": [
      "<class 'pandas.core.frame.DataFrame'>\n",
      "RangeIndex: 10000 entries, 0 to 9999\n",
      "Data columns (total 14 columns):\n",
      " #   Column                    Non-Null Count  Dtype  \n",
      "---  ------                    --------------  -----  \n",
      " 0   User_ID                   10000 non-null  object \n",
      " 1   Age                       10000 non-null  int64  \n",
      " 2   Gender                    10000 non-null  object \n",
      " 3   Technology_Usage_Hours    10000 non-null  float64\n",
      " 4   Social_Media_Usage_Hours  10000 non-null  float64\n",
      " 5   Gaming_Hours              10000 non-null  float64\n",
      " 6   Screen_Time_Hours         10000 non-null  float64\n",
      " 7   Mental_Health_Status      10000 non-null  object \n",
      " 8   Stress_Level              10000 non-null  object \n",
      " 9   Sleep_Hours               10000 non-null  float64\n",
      " 10  Physical_Activity_Hours   10000 non-null  float64\n",
      " 11  Support_Systems_Access    10000 non-null  object \n",
      " 12  Work_Environment_Impact   10000 non-null  object \n",
      " 13  Online_Support_Usage      10000 non-null  object \n",
      "dtypes: float64(6), int64(1), object(7)\n",
      "memory usage: 1.1+ MB\n"
     ]
    }
   ],
   "execution_count": 21
  },
  {
   "metadata": {
    "ExecuteTime": {
     "end_time": "2025-04-24T13:18:40.411145Z",
     "start_time": "2025-04-24T13:18:40.391527Z"
    }
   },
   "cell_type": "code",
   "source": "data.describe()",
   "id": "7ac0e69fe27fe5d0",
   "outputs": [
    {
     "data": {
      "text/plain": [
       "                Age  Technology_Usage_Hours  Social_Media_Usage_Hours  \\\n",
       "count  10000.000000            10000.000000              10000.000000   \n",
       "mean      41.518600                6.474341                  3.972321   \n",
       "std       13.920217                3.169022                  2.313707   \n",
       "min       18.000000                1.000000                  0.000000   \n",
       "25%       29.000000                3.760000                  1.980000   \n",
       "50%       42.000000                6.425000                  3.950000   \n",
       "75%       54.000000                9.212500                  5.990000   \n",
       "max       65.000000               12.000000                  8.000000   \n",
       "\n",
       "       Gaming_Hours  Screen_Time_Hours   Sleep_Hours  Physical_Activity_Hours  \n",
       "count  10000.000000       10000.000000  10000.000000             10000.000000  \n",
       "mean       2.515598           7.975765      6.500724                 5.003860  \n",
       "std        1.446748           4.042608      1.450933                 2.905044  \n",
       "min        0.000000           1.000000      4.000000                 0.000000  \n",
       "25%        1.260000           4.520000      5.260000                 2.490000  \n",
       "50%        2.520000           7.900000      6.500000                 4.990000  \n",
       "75%        3.790000          11.500000      7.760000                 7.540000  \n",
       "max        5.000000          15.000000      9.000000                10.000000  "
      ],
      "text/html": [
       "<div>\n",
       "<style scoped>\n",
       "    .dataframe tbody tr th:only-of-type {\n",
       "        vertical-align: middle;\n",
       "    }\n",
       "\n",
       "    .dataframe tbody tr th {\n",
       "        vertical-align: top;\n",
       "    }\n",
       "\n",
       "    .dataframe thead th {\n",
       "        text-align: right;\n",
       "    }\n",
       "</style>\n",
       "<table border=\"1\" class=\"dataframe\">\n",
       "  <thead>\n",
       "    <tr style=\"text-align: right;\">\n",
       "      <th></th>\n",
       "      <th>Age</th>\n",
       "      <th>Technology_Usage_Hours</th>\n",
       "      <th>Social_Media_Usage_Hours</th>\n",
       "      <th>Gaming_Hours</th>\n",
       "      <th>Screen_Time_Hours</th>\n",
       "      <th>Sleep_Hours</th>\n",
       "      <th>Physical_Activity_Hours</th>\n",
       "    </tr>\n",
       "  </thead>\n",
       "  <tbody>\n",
       "    <tr>\n",
       "      <th>count</th>\n",
       "      <td>10000.000000</td>\n",
       "      <td>10000.000000</td>\n",
       "      <td>10000.000000</td>\n",
       "      <td>10000.000000</td>\n",
       "      <td>10000.000000</td>\n",
       "      <td>10000.000000</td>\n",
       "      <td>10000.000000</td>\n",
       "    </tr>\n",
       "    <tr>\n",
       "      <th>mean</th>\n",
       "      <td>41.518600</td>\n",
       "      <td>6.474341</td>\n",
       "      <td>3.972321</td>\n",
       "      <td>2.515598</td>\n",
       "      <td>7.975765</td>\n",
       "      <td>6.500724</td>\n",
       "      <td>5.003860</td>\n",
       "    </tr>\n",
       "    <tr>\n",
       "      <th>std</th>\n",
       "      <td>13.920217</td>\n",
       "      <td>3.169022</td>\n",
       "      <td>2.313707</td>\n",
       "      <td>1.446748</td>\n",
       "      <td>4.042608</td>\n",
       "      <td>1.450933</td>\n",
       "      <td>2.905044</td>\n",
       "    </tr>\n",
       "    <tr>\n",
       "      <th>min</th>\n",
       "      <td>18.000000</td>\n",
       "      <td>1.000000</td>\n",
       "      <td>0.000000</td>\n",
       "      <td>0.000000</td>\n",
       "      <td>1.000000</td>\n",
       "      <td>4.000000</td>\n",
       "      <td>0.000000</td>\n",
       "    </tr>\n",
       "    <tr>\n",
       "      <th>25%</th>\n",
       "      <td>29.000000</td>\n",
       "      <td>3.760000</td>\n",
       "      <td>1.980000</td>\n",
       "      <td>1.260000</td>\n",
       "      <td>4.520000</td>\n",
       "      <td>5.260000</td>\n",
       "      <td>2.490000</td>\n",
       "    </tr>\n",
       "    <tr>\n",
       "      <th>50%</th>\n",
       "      <td>42.000000</td>\n",
       "      <td>6.425000</td>\n",
       "      <td>3.950000</td>\n",
       "      <td>2.520000</td>\n",
       "      <td>7.900000</td>\n",
       "      <td>6.500000</td>\n",
       "      <td>4.990000</td>\n",
       "    </tr>\n",
       "    <tr>\n",
       "      <th>75%</th>\n",
       "      <td>54.000000</td>\n",
       "      <td>9.212500</td>\n",
       "      <td>5.990000</td>\n",
       "      <td>3.790000</td>\n",
       "      <td>11.500000</td>\n",
       "      <td>7.760000</td>\n",
       "      <td>7.540000</td>\n",
       "    </tr>\n",
       "    <tr>\n",
       "      <th>max</th>\n",
       "      <td>65.000000</td>\n",
       "      <td>12.000000</td>\n",
       "      <td>8.000000</td>\n",
       "      <td>5.000000</td>\n",
       "      <td>15.000000</td>\n",
       "      <td>9.000000</td>\n",
       "      <td>10.000000</td>\n",
       "    </tr>\n",
       "  </tbody>\n",
       "</table>\n",
       "</div>"
      ]
     },
     "execution_count": 22,
     "metadata": {},
     "output_type": "execute_result"
    }
   ],
   "execution_count": 22
  },
  {
   "metadata": {},
   "cell_type": "markdown",
   "source": "Data Preprocessing",
   "id": "120c676f5dc21eb5"
  },
  {
   "metadata": {
    "ExecuteTime": {
     "end_time": "2025-04-24T13:18:42.290907Z",
     "start_time": "2025-04-24T13:18:42.280078Z"
    }
   },
   "cell_type": "code",
   "source": "data = data.drop_duplicates()",
   "id": "4b7f1d06f69b01a6",
   "outputs": [],
   "execution_count": 23
  },
  {
   "metadata": {
    "ExecuteTime": {
     "end_time": "2025-04-24T13:18:42.902366Z",
     "start_time": "2025-04-24T13:18:42.895831Z"
    }
   },
   "cell_type": "code",
   "source": "data.shape  #No duplicates detected",
   "id": "94db00077dbbb5ae",
   "outputs": [
    {
     "data": {
      "text/plain": [
       "(10000, 14)"
      ]
     },
     "execution_count": 24,
     "metadata": {},
     "output_type": "execute_result"
    }
   ],
   "execution_count": 24
  },
  {
   "metadata": {
    "ExecuteTime": {
     "end_time": "2025-04-24T13:18:43.665851Z",
     "start_time": "2025-04-24T13:18:43.658096Z"
    }
   },
   "cell_type": "code",
   "source": [
    "data.drop([\"User_ID\"], axis=1, inplace=True) #remove User_ID column (Not useful for the model)\n",
    "data.drop([\"Support_Systems_Access\"], axis=1, inplace=True)\n",
    "data.drop([\"Online_Support_Usage\"], axis=1, inplace=True)"
   ],
   "id": "a5cf72f4529c5db6",
   "outputs": [],
   "execution_count": 25
  },
  {
   "metadata": {
    "ExecuteTime": {
     "end_time": "2025-04-24T13:18:44.303958Z",
     "start_time": "2025-04-24T13:18:44.298656Z"
    }
   },
   "cell_type": "code",
   "source": "data.shape",
   "id": "6fd3671a74ac5c41",
   "outputs": [
    {
     "data": {
      "text/plain": [
       "(10000, 11)"
      ]
     },
     "execution_count": 26,
     "metadata": {},
     "output_type": "execute_result"
    }
   ],
   "execution_count": 26
  },
  {
   "metadata": {
    "ExecuteTime": {
     "end_time": "2025-04-24T13:18:51.541704Z",
     "start_time": "2025-04-24T13:18:51.529648Z"
    }
   },
   "cell_type": "code",
   "source": "data.head()",
   "id": "581d2f95fe26a5df",
   "outputs": [
    {
     "data": {
      "text/plain": [
       "   Age  Gender  Technology_Usage_Hours  Social_Media_Usage_Hours  \\\n",
       "0   23  Female                    6.57                      6.00   \n",
       "1   21    Male                    3.01                      2.57   \n",
       "2   51    Male                    3.04                      6.14   \n",
       "3   25  Female                    3.84                      4.48   \n",
       "4   53    Male                    1.20                      0.56   \n",
       "\n",
       "   Gaming_Hours  Screen_Time_Hours Mental_Health_Status Stress_Level  \\\n",
       "0          0.68              12.36                 Good          Low   \n",
       "1          3.74               7.61                 Poor         High   \n",
       "2          1.26               3.16                 Fair         High   \n",
       "3          2.59              13.08            Excellent       Medium   \n",
       "4          0.29              12.63                 Good          Low   \n",
       "\n",
       "   Sleep_Hours  Physical_Activity_Hours Work_Environment_Impact  \n",
       "0         8.01                     6.71                Negative  \n",
       "1         7.28                     5.88                Positive  \n",
       "2         8.04                     9.81                Negative  \n",
       "3         5.62                     5.28                Negative  \n",
       "4         5.55                     4.00                Positive  "
      ],
      "text/html": [
       "<div>\n",
       "<style scoped>\n",
       "    .dataframe tbody tr th:only-of-type {\n",
       "        vertical-align: middle;\n",
       "    }\n",
       "\n",
       "    .dataframe tbody tr th {\n",
       "        vertical-align: top;\n",
       "    }\n",
       "\n",
       "    .dataframe thead th {\n",
       "        text-align: right;\n",
       "    }\n",
       "</style>\n",
       "<table border=\"1\" class=\"dataframe\">\n",
       "  <thead>\n",
       "    <tr style=\"text-align: right;\">\n",
       "      <th></th>\n",
       "      <th>Age</th>\n",
       "      <th>Gender</th>\n",
       "      <th>Technology_Usage_Hours</th>\n",
       "      <th>Social_Media_Usage_Hours</th>\n",
       "      <th>Gaming_Hours</th>\n",
       "      <th>Screen_Time_Hours</th>\n",
       "      <th>Mental_Health_Status</th>\n",
       "      <th>Stress_Level</th>\n",
       "      <th>Sleep_Hours</th>\n",
       "      <th>Physical_Activity_Hours</th>\n",
       "      <th>Work_Environment_Impact</th>\n",
       "    </tr>\n",
       "  </thead>\n",
       "  <tbody>\n",
       "    <tr>\n",
       "      <th>0</th>\n",
       "      <td>23</td>\n",
       "      <td>Female</td>\n",
       "      <td>6.57</td>\n",
       "      <td>6.00</td>\n",
       "      <td>0.68</td>\n",
       "      <td>12.36</td>\n",
       "      <td>Good</td>\n",
       "      <td>Low</td>\n",
       "      <td>8.01</td>\n",
       "      <td>6.71</td>\n",
       "      <td>Negative</td>\n",
       "    </tr>\n",
       "    <tr>\n",
       "      <th>1</th>\n",
       "      <td>21</td>\n",
       "      <td>Male</td>\n",
       "      <td>3.01</td>\n",
       "      <td>2.57</td>\n",
       "      <td>3.74</td>\n",
       "      <td>7.61</td>\n",
       "      <td>Poor</td>\n",
       "      <td>High</td>\n",
       "      <td>7.28</td>\n",
       "      <td>5.88</td>\n",
       "      <td>Positive</td>\n",
       "    </tr>\n",
       "    <tr>\n",
       "      <th>2</th>\n",
       "      <td>51</td>\n",
       "      <td>Male</td>\n",
       "      <td>3.04</td>\n",
       "      <td>6.14</td>\n",
       "      <td>1.26</td>\n",
       "      <td>3.16</td>\n",
       "      <td>Fair</td>\n",
       "      <td>High</td>\n",
       "      <td>8.04</td>\n",
       "      <td>9.81</td>\n",
       "      <td>Negative</td>\n",
       "    </tr>\n",
       "    <tr>\n",
       "      <th>3</th>\n",
       "      <td>25</td>\n",
       "      <td>Female</td>\n",
       "      <td>3.84</td>\n",
       "      <td>4.48</td>\n",
       "      <td>2.59</td>\n",
       "      <td>13.08</td>\n",
       "      <td>Excellent</td>\n",
       "      <td>Medium</td>\n",
       "      <td>5.62</td>\n",
       "      <td>5.28</td>\n",
       "      <td>Negative</td>\n",
       "    </tr>\n",
       "    <tr>\n",
       "      <th>4</th>\n",
       "      <td>53</td>\n",
       "      <td>Male</td>\n",
       "      <td>1.20</td>\n",
       "      <td>0.56</td>\n",
       "      <td>0.29</td>\n",
       "      <td>12.63</td>\n",
       "      <td>Good</td>\n",
       "      <td>Low</td>\n",
       "      <td>5.55</td>\n",
       "      <td>4.00</td>\n",
       "      <td>Positive</td>\n",
       "    </tr>\n",
       "  </tbody>\n",
       "</table>\n",
       "</div>"
      ]
     },
     "execution_count": 27,
     "metadata": {},
     "output_type": "execute_result"
    }
   ],
   "execution_count": 27
  },
  {
   "metadata": {},
   "cell_type": "code",
   "outputs": [],
   "execution_count": null,
   "source": "",
   "id": "26234d06954882d0"
  }
 ],
 "metadata": {
  "kernelspec": {
   "display_name": "Python 3",
   "language": "python",
   "name": "python3"
  },
  "language_info": {
   "codemirror_mode": {
    "name": "ipython",
    "version": 2
   },
   "file_extension": ".py",
   "mimetype": "text/x-python",
   "name": "python",
   "nbconvert_exporter": "python",
   "pygments_lexer": "ipython2",
   "version": "2.7.6"
  }
 },
 "nbformat": 4,
 "nbformat_minor": 5
}
