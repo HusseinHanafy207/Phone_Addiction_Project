{
 "cells": [
  {
   "cell_type": "code",
   "id": "initial_id",
   "metadata": {
    "collapsed": true
   },
   "source": [
    "import numpy as np\n",
    "import pandas as pd"
   ],
   "outputs": [],
   "execution_count": null
  },
  {
   "cell_type": "markdown",
   "id": "f674bde84eb0cb78",
   "metadata": {},
   "source": [
    "Read Data"
   ]
  },
  {
   "cell_type": "code",
   "id": "6450c7ed4c4391e0",
   "metadata": {},
   "source": [
    "data=pd.read_csv('mobile_addiction.csv')"
   ],
   "outputs": [],
   "execution_count": null
  },
  {
   "cell_type": "markdown",
   "id": "7af6f2c628b66a51",
   "metadata": {},
   "source": [
    "Getting to know data"
   ]
  },
  {
   "cell_type": "code",
   "id": "8d32e2283393b9e3",
   "metadata": {},
   "source": [
    "data.head()"
   ],
   "outputs": [],
   "execution_count": null
  },
  {
   "cell_type": "code",
   "id": "2da3a7d0e74b32e2",
   "metadata": {},
   "source": [
    "data.shape"
   ],
   "outputs": [],
   "execution_count": null
  },
  {
   "cell_type": "code",
   "id": "95db7a1255752234",
   "metadata": {},
   "source": [
    "data.info()"
   ],
   "outputs": [],
   "execution_count": null
  },
  {
   "cell_type": "code",
   "id": "7ac0e69fe27fe5d0",
   "metadata": {},
   "source": [
    "data.describe()\n",
    "#After seeing the statistics, the data seems to be not skewed as its mean is almost equal to the median"
   ],
   "outputs": [],
   "execution_count": null
  },
  {
   "cell_type": "markdown",
   "id": "120c676f5dc21eb5",
   "metadata": {},
   "source": [
    "Data Preprocessing"
   ]
  },
  {
   "cell_type": "code",
   "id": "4b7f1d06f69b01a6",
   "metadata": {},
   "source": [
    "data = data.drop_duplicates()"
   ],
   "outputs": [],
   "execution_count": null
  },
  {
   "cell_type": "code",
   "id": "94db00077dbbb5ae",
   "metadata": {},
   "source": [
    "data.shape  #No duplicates detected"
   ],
   "outputs": [],
   "execution_count": null
  },
  {
   "cell_type": "code",
   "id": "b8d38ae7",
   "metadata": {},
   "source": [
    "data.columns"
   ],
   "outputs": [],
   "execution_count": null
  },
  {
   "cell_type": "code",
   "id": "a5cf72f4529c5db6",
   "metadata": {},
   "source": [
    "#remove Unnamed: 0 column (Not useful for the model)\n",
    "data.drop([\"Unnamed: 0\"], axis=1, inplace=True) "
   ],
   "outputs": [],
   "execution_count": null
  },
  {
   "cell_type": "code",
   "id": "6fd3671a74ac5c41",
   "metadata": {},
   "source": [
    "data.shape"
   ],
   "outputs": [],
   "execution_count": null
  },
  {
   "cell_type": "code",
   "id": "581d2f95fe26a5df",
   "metadata": {},
   "source": [
    "data.head()"
   ],
   "outputs": [],
   "execution_count": null
  },
  {
   "cell_type": "code",
   "id": "8f28ac1ab7b1e896",
   "metadata": {},
   "source": [
    "data.isnull().sum() #No null values detected"
   ],
   "outputs": [],
   "execution_count": null
  },
  {
   "cell_type": "code",
   "id": "c6cf70ba",
   "metadata": {},
   "source": [
    "data['addicted'].value_counts()\n",
    "#No null values detected, and no bias detected"
   ],
   "outputs": [],
   "execution_count": null
  },
  {
   "cell_type": "code",
   "id": "6447986816e38464",
   "metadata": {},
   "source": [
    "import plotly.express as px\n",
    "\n",
    "#to show outliers for all numerical columns\n",
    "for column in data.select_dtypes(include=['number']).columns:\n",
    "\tfig = px.box(data, x=column, title= f'Box plot for {column}')\n",
    "\tfig.show()"
   ],
   "outputs": [],
   "execution_count": null
  },
  {
   "cell_type": "code",
   "id": "b0657e15",
   "metadata": {},
   "source": [
    "data.describe()"
   ],
   "outputs": [],
   "execution_count": null
  },
  {
   "cell_type": "code",
   "id": "8c288414",
   "metadata": {},
   "source": [
    "#Categoraize \"daily_screen_time\" column to show correlation with the target column \"addicted\"\n",
    "def daily_screen_time_levels(col):\n",
    "    if col<=4:\n",
    "        return \"Low\"\n",
    "    elif col<=8:\n",
    "        return \"Intermediate\"\n",
    "    else:\n",
    "        return \"High\"\n",
    "\n",
    "data[\"daily_screen_time_levels\"] = data[\"daily_screen_time\"].apply(daily_screen_time_levels)"
   ],
   "outputs": [],
   "execution_count": null
  },
  {
   "cell_type": "code",
   "id": "c6a1f2e0",
   "metadata": {},
   "source": [
    "#count plot daily_screen_time_levels\n",
    "import seaborn as sns\n",
    "import matplotlib.pyplot as plt\n",
    "sns.countplot(x='daily_screen_time_levels',data=data)#only take the x axis\n",
    "plt.show()"
   ],
   "outputs": [],
   "execution_count": null
  },
  {
   "cell_type": "code",
   "id": "080b30ec",
   "metadata": {},
   "source": [
    "#add the addicted hue\n",
    "import seaborn as sns\n",
    "import matplotlib.pyplot as plt\n",
    "sns.countplot(x='daily_screen_time_levels',data=data,hue=\"addicted\")#only take the x axis\n",
    "plt.show()"
   ],
   "outputs": [],
   "execution_count": null
  },
  {
   "cell_type": "code",
   "id": "8aa768d4",
   "metadata": {},
   "source": [
    "#show the percent of addicted people in each category to be more expressive\n",
    "import matplotlib.pyplot as plt\n",
    "\n",
    "# Group by screen time levels and addiction status\n",
    "grouped = data.groupby(['daily_screen_time_levels', 'addicted'], observed=True).size().reset_index(name='count')\n",
    "\n",
    "# Calculate percentages within each screen time level\n",
    "total_per_bin = grouped.groupby('daily_screen_time_levels', observed=True)['count'].transform('sum')\n",
    "grouped['percentage'] = grouped['count'] / total_per_bin * 100\n",
    "\n",
    "# Pivot the data for stacked bar plot\n",
    "pivot = grouped.pivot(index='daily_screen_time_levels', columns='addicted', values='percentage').fillna(0)\n",
    "\n",
    "# Rename columns to readable labels\n",
    "column_map = {0: 'Not Addicted', 1: 'Addicted'}\n",
    "pivot.columns = [column_map.get(c, str(c)) for c in pivot.columns]\n",
    "\n",
    "# Plot\n",
    "pivot.plot(kind='bar', stacked=True, figsize=(8, 6), colormap='Set2')\n",
    "plt.title('Addiction Percentage by Daily Screen Time Level')\n",
    "plt.xlabel('Daily Screen Time Level')\n",
    "plt.ylabel('Percentage')\n",
    "plt.legend(title='Addiction Status')\n",
    "plt.xticks(rotation=30)\n",
    "plt.tight_layout()\n",
    "plt.show()\n"
   ],
   "outputs": [],
   "execution_count": null
  },
  {
   "cell_type": "markdown",
   "id": "ccacf907",
   "metadata": {},
   "source": [
    "From the chart above, We've concluded that almost there are no not-addicted people who used their mobile from 8 to 12 hours daily"
   ]
  },
  {
   "cell_type": "code",
   "id": "d373584a",
   "metadata": {},
   "source": [
    "#Categoraize \"social_media_usage\" column to show correlation with the target column \"addicted\"\n",
    "def social_media_usage_levels(col):\n",
    "    if col<=1:\n",
    "        return \"Low\"\n",
    "    elif col<=4:\n",
    "        return \"Intermediate\"\n",
    "    else:\n",
    "        return \"High\"\n",
    "\n",
    "data[\"social_media_usage_levels\"] = data[\"social_media_usage\"].apply(social_media_usage_levels)"
   ],
   "outputs": [],
   "execution_count": null
  },
  {
   "cell_type": "code",
   "id": "1eb6b495",
   "metadata": {},
   "source": [
    "import seaborn as sns\n",
    "import matplotlib.pyplot as plt\n",
    "sns.countplot(x='social_media_usage_levels',data=data)\n",
    "plt.show()"
   ],
   "outputs": [],
   "execution_count": null
  },
  {
   "cell_type": "code",
   "id": "b2498bc4",
   "metadata": {},
   "source": [
    "import seaborn as sns\n",
    "import matplotlib.pyplot as plt\n",
    "sns.countplot(x='social_media_usage_levels',data=data,hue=\"addicted\")\n",
    "plt.show()"
   ],
   "outputs": [],
   "execution_count": null
  },
  {
   "cell_type": "code",
   "id": "99467b1a",
   "metadata": {},
   "source": [
    "import matplotlib.pyplot as plt\n",
    "\n",
    "grouped = data.groupby(['social_media_usage_levels', 'addicted'], observed=True).size().reset_index(name='count')\n",
    "\n",
    "total_per_bin = grouped.groupby('social_media_usage_levels', observed=True)['count'].transform('sum')\n",
    "grouped['percentage'] = grouped['count'] / total_per_bin * 100\n",
    "\n",
    "pivot = grouped.pivot(index='social_media_usage_levels', columns='addicted', values='percentage').fillna(0)\n",
    "\n",
    "column_map = {0: 'Not Addicted', 1: 'Addicted'}\n",
    "pivot.columns = [column_map.get(c, str(c)) for c in pivot.columns]\n",
    "\n",
    "\n",
    "pivot.plot(kind='bar', stacked=True, figsize=(8, 6), colormap='Set2')\n",
    "plt.title('Addiction Percentage by Social Media Usage Levels')\n",
    "plt.xlabel('Media Usage Level')\n",
    "plt.ylabel('Percentage')\n",
    "plt.legend(title='Addiction Status')\n",
    "plt.xticks(rotation=30)\n",
    "plt.tight_layout()\n",
    "plt.show()\n"
   ],
   "outputs": [],
   "execution_count": null
  },
  {
   "cell_type": "markdown",
   "id": "d35c9308",
   "metadata": {},
   "source": [
    "The more people use socail media, the more probably they will be addicted to phone usage."
   ]
  },
  {
   "cell_type": "code",
   "id": "c6977858",
   "metadata": {},
   "source": [
    "#Categoraize \"night_usage\" column to show correlation with the target column \"addicted\"\n",
    "def night_usage_levels(col):\n",
    "    if col<=1:\n",
    "        return \"Low\"\n",
    "    elif col<=4:\n",
    "        return \"Intermediate\"\n",
    "    else:\n",
    "        return \"High\"\n",
    "\n",
    "data[\"night_usage_levels\"] = data[\"night_usage\"].apply(night_usage_levels)"
   ],
   "outputs": [],
   "execution_count": null
  },
  {
   "cell_type": "code",
   "id": "e0772734",
   "metadata": {},
   "source": [
    "import matplotlib.pyplot as plt\n",
    "\n",
    "grouped = data.groupby(['night_usage_levels', 'addicted'], observed=True).size().reset_index(name='count')\n",
    "\n",
    "total_per_bin = grouped.groupby('night_usage_levels', observed=True)['count'].transform('sum')\n",
    "grouped['percentage'] = grouped['count'] / total_per_bin * 100\n",
    "\n",
    "pivot = grouped.pivot(index='night_usage_levels', columns='addicted', values='percentage').fillna(0)\n",
    "\n",
    "\n",
    "column_map = {0: 'Not Addicted', 1: 'Addicted'}\n",
    "pivot.columns = [column_map.get(c, str(c)) for c in pivot.columns]\n",
    "\n",
    "# Plot\n",
    "pivot.plot(kind='bar', stacked=True, figsize=(8, 6), colormap='Set2')\n",
    "plt.title('Addiction Percentage by Night Usage Level')\n",
    "plt.xlabel('Night Usage Level')\n",
    "plt.ylabel('Percentage')\n",
    "plt.legend(title='Addiction Status')\n",
    "plt.xticks(rotation=30)\n",
    "plt.tight_layout()\n",
    "plt.show()\n"
   ],
   "outputs": [],
   "execution_count": null
  },
  {
   "cell_type": "markdown",
   "id": "b8de2424",
   "metadata": {},
   "source": [
    "Since \"night_usage\" column is the only one with 100% addiction in the high range, therefore this indicates that the night_usage has a great impact on addiction"
   ]
  },
  {
   "cell_type": "code",
   "id": "20c439e8",
   "metadata": {},
   "source": [
    "#Categoraize \"work_study_hours\" column to show correlation with the target column \"addicted\"\n",
    "def work_study_hours_levels(col):\n",
    "    if col<=4:\n",
    "        return \"Low\"\n",
    "    elif col<=9:\n",
    "        return \"Intermediate\"\n",
    "    else:\n",
    "        return \"High\"\n",
    "\n",
    "data[\"work_study_hours_levels\"] = data[\"work_study_hours\"].apply(work_study_hours_levels)"
   ],
   "outputs": [],
   "execution_count": null
  },
  {
   "cell_type": "code",
   "id": "757260c1",
   "metadata": {},
   "source": [
    "import matplotlib.pyplot as plt\n",
    "\n",
    "grouped = data.groupby(['work_study_hours_levels', 'addicted'], observed=True).size().reset_index(name='count')\n",
    "\n",
    "total_per_bin = grouped.groupby('work_study_hours_levels', observed=True)['count'].transform('sum')\n",
    "grouped['percentage'] = grouped['count'] / total_per_bin * 100\n",
    "\n",
    "pivot = grouped.pivot(index='work_study_hours_levels', columns='addicted', values='percentage').fillna(0)\n",
    "\n",
    "column_map = {0: 'Not Addicted', 1: 'Addicted'}\n",
    "pivot.columns = [column_map.get(c, str(c)) for c in pivot.columns]\n",
    "\n",
    "pivot.plot(kind='bar', stacked=True, figsize=(8, 6), colormap='Set2')\n",
    "plt.title('Addiction Percentage by Work_Study Hours Levels')\n",
    "plt.xlabel('Work_Study Hours Level')\n",
    "plt.ylabel('Percentage')\n",
    "plt.legend(title='Addiction Status')\n",
    "plt.xticks(rotation=30)\n",
    "plt.tight_layout()\n",
    "plt.show()\n"
   ],
   "outputs": [],
   "execution_count": null
  },
  {
   "cell_type": "markdown",
   "id": "f7d2454b",
   "metadata": {},
   "source": [
    "The more work or study hours the person do, The less probably they will be addicted to phone usage and vice versa."
   ]
  },
  {
   "cell_type": "code",
   "id": "952f94f7",
   "metadata": {},
   "source": [
    "def age_categories(col):\n",
    "    if col<=25:\n",
    "        return \"Gen-Z(15-25)\"\n",
    "    elif col<40:\n",
    "        return \"Gen-Y(26-40)\"\n",
    "    else:\n",
    "        return \"Gen-X(41-55)\"\n",
    "\n",
    "data[\"age_categories\"] = data[\"age\"].apply(age_categories)"
   ],
   "outputs": [],
   "execution_count": null
  },
  {
   "cell_type": "code",
   "id": "2a91f727",
   "metadata": {},
   "source": [
    "import seaborn as sns\n",
    "import matplotlib.pyplot as plt\n",
    "sns.countplot(x='age_categories',data=data,hue=\"addicted\")\n",
    "plt.show()"
   ],
   "outputs": [],
   "execution_count": null
  },
  {
   "cell_type": "code",
   "id": "08c7e718",
   "metadata": {},
   "source": [
    "import matplotlib.pyplot as plt\n",
    "\n",
    "grouped = data.groupby(['age_categories', 'addicted'], observed=True).size().reset_index(name='count')\n",
    "\n",
    "total_per_bin = grouped.groupby('age_categories', observed=True)['count'].transform('sum')\n",
    "grouped['percentage'] = grouped['count'] / total_per_bin * 100\n",
    "\n",
    "pivot = grouped.pivot(index='age_categories', columns='addicted', values='percentage').fillna(0)\n",
    "\n",
    "column_map = {0: 'Not Addicted', 1: 'Addicted'}\n",
    "pivot.columns = [column_map.get(c, str(c)) for c in pivot.columns]\n",
    "\n",
    "pivot.plot(kind='bar', stacked=True, figsize=(8, 6), colormap='Set2')\n",
    "plt.title('Addiction Percentage by Age Categories')\n",
    "plt.xlabel('Age Category')\n",
    "plt.ylabel('Percentage')\n",
    "plt.legend(title='Addiction Status')\n",
    "plt.xticks(rotation=30)\n",
    "plt.tight_layout()\n",
    "plt.show()"
   ],
   "outputs": [],
   "execution_count": null
  },
  {
   "cell_type": "markdown",
   "id": "42fb3fd9",
   "metadata": {},
   "source": [
    "From the chart above, The percent of addiction increases significantly in Gen-Z which makes sense."
   ]
  },
  {
   "cell_type": "code",
   "id": "790aeb66",
   "metadata": {},
   "source": [
    "sns.kdeplot(data=data, x='gaming_time', hue='addicted', common_norm=False)"
   ],
   "outputs": [],
   "execution_count": null
  },
  {
   "cell_type": "markdown",
   "id": "5b895942",
   "metadata": {},
   "source": [
    "From the above KDE plot, It seems that the more gaming time the person spend, The more probably addicted they will be."
   ]
  },
  {
   "cell_type": "code",
   "id": "1911429b",
   "metadata": {},
   "source": [
    "# Select only numeric columns\n",
    "numeric_data = data.select_dtypes(include='number')\n",
    "\n",
    "# Compute correlation matrix\n",
    "corr_matrix = numeric_data.corr()\n",
    "\n",
    "# Set up the matplotlib figure\n",
    "plt.figure(figsize=(10, 8))\n",
    "\n",
    "# Create the heatmap\n",
    "sns.heatmap(corr_matrix, annot=True, fmt=\".2f\", cmap='coolwarm', center=0,\n",
    "            square=True, linewidths=0.5, cbar_kws={\"shrink\": .8})\n",
    "\n",
    "# Title and layout\n",
    "plt.title('Correlation Matrix of Numeric Features')\n",
    "plt.tight_layout()\n",
    "plt.show()"
   ],
   "outputs": [],
   "execution_count": null
  },
  {
   "cell_type": "code",
   "id": "a757160c",
   "metadata": {},
   "source": [
    "sns.boxplot(x='addicted', y='daily_screen_time', data=data)\n",
    "plt.title('Daily Screen Time by Addiction Status')\n",
    "plt.show()"
   ],
   "outputs": [],
   "execution_count": null
  },
  {
   "metadata": {},
   "cell_type": "markdown",
   "source": "Addicted people spend more time on their phones which makes sense.",
   "id": "4c8127a08172d453"
  },
  {
   "cell_type": "code",
   "id": "3666e9fa",
   "metadata": {},
   "source": [
    "data.info()"
   ],
   "outputs": [],
   "execution_count": null
  },
  {
   "cell_type": "code",
   "id": "59b8a496",
   "metadata": {},
   "source": [
    "from scipy.stats import pointbiserialr\n",
    "import pandas as pd\n",
    "\n",
    "# Map 'addicted' column to numeric binary\n",
    "data['addicted'] = data['addicted'].map({'not addicted': 0, 'addicted': 1})\n",
    "\n",
    "# Identify numeric columns safely (excluding 'addicted')\n",
    "numeric_cols = data.select_dtypes(include=['number']).columns.tolist()\n",
    "numeric_cols = [col for col in numeric_cols if col != 'addicted']\n",
    "\n",
    "# Dictionary to store correlation results\n",
    "correlations = {}\n",
    "\n",
    "# Compute point-biserial correlation\n",
    "for col in numeric_cols:\n",
    "    if data[col].nunique() > 1:\n",
    "        subset = data[['addicted', col]].dropna()\n",
    "        if len(subset) > 2:  # At least 3 valid rows needed\n",
    "            corr, _ = pointbiserialr(subset['addicted'], subset[col])\n",
    "            correlations[col] = corr\n",
    "\n",
    "# Display sorted correlations\n",
    "for col, val in sorted(correlations.items(), key=lambda x: abs(x[1]), reverse=True):\n",
    "    print(f\"{col}: {val:.2f}\")\n"
   ],
   "outputs": [],
   "execution_count": null
  },
  {
   "metadata": {},
   "cell_type": "code",
   "source": "data.info()",
   "id": "24e073f00e37f804",
   "outputs": [],
   "execution_count": null
  },
  {
   "metadata": {},
   "cell_type": "code",
   "source": [
    "from sklearn.preprocessing import MinMaxScaler\n",
    "\n",
    "scaler = MinMaxScaler()\n",
    "cols = ['notifications', 'app_sessions', 'stress_level', 'age']\n",
    "data[cols] = scaler.fit_transform(data[cols])\n",
    "#scale the data before applying the formula\n",
    "#Create the addiction score column using the most significant features\n",
    "data['Addiction_Score'] = (\n",
    "    0.79 * data['notifications'] +\n",
    "    0.67 * data['app_sessions'] +\n",
    "    0.54 * data['stress_level'] -\n",
    "    0.37 * data['age']\n",
    ")"
   ],
   "id": "d4a3bca7057e6497",
   "outputs": [],
   "execution_count": null
  },
  {
   "metadata": {},
   "cell_type": "code",
   "source": "data.head()",
   "id": "e4b41eee9e782ddb",
   "outputs": [],
   "execution_count": null
  },
  {
   "metadata": {},
   "cell_type": "code",
   "source": "data.describe()",
   "id": "8c15a0710b03f3c7",
   "outputs": [],
   "execution_count": null
  },
  {
   "metadata": {},
   "cell_type": "code",
   "source": [
    "non_selected_features = ['social_media_usage', 'daily_screen_time', 'night_usage', 'work_study_hours','gaming_time','apps_installed']\n",
    "\n",
    "data[non_selected_features] = scaler.fit_transform(data[non_selected_features])"
   ],
   "id": "7c6f479560839c3",
   "outputs": [],
   "execution_count": null
  },
  {
   "metadata": {},
   "cell_type": "code",
   "source": "data.describe()",
   "id": "f026ea455d10bfc",
   "outputs": [],
   "execution_count": null
  },
  {
   "metadata": {},
   "cell_type": "code",
   "source": [
    "from scipy.stats import pearsonr\n",
    "\n",
    "# Compute correlation with the Addiction Score\n",
    "correlations = {}\n",
    "for col in non_selected_features:\n",
    "    subset = data[['Addiction_Score', col]].dropna()\n",
    "    if subset[col].nunique() > 1:\n",
    "        corr, _ = pearsonr(subset['Addiction_Score'], subset[col])\n",
    "        correlations[col] = corr\n",
    "\n",
    "# Display results\n",
    "for col, val in sorted(correlations.items(), key=lambda x: abs(x[1]), reverse=True):\n",
    "    print(f\"{col}: {val:.2f}\")\n"
   ],
   "id": "fbe15710984a16c9",
   "outputs": [],
   "execution_count": null
  },
  {
   "metadata": {},
   "cell_type": "markdown",
   "source": "The addiction score column makes sense because it shows a positive correlation with \"social_media_usage\",\"daily_screen_time\",\"night_usage\",\"gaming_time\", and \"apps_installed\" columns. It also shows a negative correlation with \"work_study_hours\" column, So we can consider the \"Addiction_Score\" column as a good indicator for addiction.",
   "id": "fe74f4176ac1fac2"
  },
  {
   "metadata": {},
   "cell_type": "code",
   "source": "data.head()",
   "id": "e45f20925428b851",
   "outputs": [],
   "execution_count": null
  },
  {
   "metadata": {},
   "cell_type": "code",
   "source": [
    "X=['daily_screen_time','app_sessions','social_media_usage',\n",
    "   'gaming_time','notifications','night_usage','age',\n",
    "   'work_study_hours','stress_level','apps_installed','addicted']\n",
    "\n",
    "y=['Addiction_Score']"
   ],
   "id": "b62d639f4ee4cebb",
   "outputs": [],
   "execution_count": null
  },
  {
   "metadata": {},
   "cell_type": "code",
   "source": [
    "# Splitting the dataset into the Training set and Test set\n",
    "from sklearn.model_selection import train_test_split\n",
    "X_train, X_test, y_train, y_test = train_test_split(data[X], data[y], test_size = 0.25, random_state = 101)"
   ],
   "id": "72d882fc5cbb8c6a",
   "outputs": [],
   "execution_count": null
  },
  {
   "metadata": {},
   "cell_type": "code",
   "source": [
    "# Fitting Simple Linear Regression to the Training set\n",
    "from sklearn.linear_model import LinearRegression\n",
    "regressor = LinearRegression()\n",
    "regressor.fit(X_train, y_train)"
   ],
   "id": "ad2d0f67c69966de",
   "outputs": [],
   "execution_count": null
  },
  {
   "metadata": {},
   "cell_type": "code",
   "source": [
    "# Predicting the Test set results\n",
    "y_pred = regressor.predict(X_test)"
   ],
   "id": "ab047285c255d45e",
   "outputs": [],
   "execution_count": null
  },
  {
   "metadata": {},
   "cell_type": "code",
   "source": [
    "from sklearn import metrics\n",
    "print(\"MSE:\",metrics.mean_squared_error(y_pred,y_test))\n",
    "print(\"MAE:\",metrics.mean_absolute_error(y_pred,y_test))\n",
    "print(\"RMSE:\",np.sqrt(metrics.mean_squared_error(y_pred,y_test)))\n",
    "print(\"r2_score:\",metrics.r2_score(y_pred,y_test))"
   ],
   "id": "584b7780c73bbc00",
   "outputs": [],
   "execution_count": null
  },
  {
   "metadata": {},
   "cell_type": "code",
   "source": [
    "from sklearn.linear_model import Ridge\n",
    "\n",
    "# Ridge model with alpha (regularization strength)\n",
    "ridge_reg = Ridge(alpha=1.0)\n",
    "ridge_reg.fit(X_train, y_train)\n",
    "\n",
    "# Predictions\n",
    "y_pred_ridge = ridge_reg.predict(X_test)\n",
    "\n",
    "# Evaluation\n",
    "print(\"Ridge Regression:\")\n",
    "print(\"MSE:\", metrics.mean_squared_error(y_test, y_pred_ridge))\n",
    "print(\"MAE:\", metrics.mean_absolute_error(y_test, y_pred_ridge))\n",
    "print(\"RMSE:\", np.sqrt(metrics.mean_squared_error(y_test, y_pred_ridge)))\n",
    "print(\"r2_score:\", metrics.r2_score(y_test, y_pred_ridge))\n"
   ],
   "id": "ecab5dd75ea5c6e7",
   "outputs": [],
   "execution_count": null
  },
  {
   "metadata": {},
   "cell_type": "code",
   "source": [
    "from sklearn.linear_model import Lasso\n",
    "\n",
    "# Lasso model with alpha\n",
    "lasso_reg = Lasso(alpha=0.005)\n",
    "lasso_reg.fit(X_train, y_train)\n",
    "\n",
    "# Predictions\n",
    "y_pred_lasso = lasso_reg.predict(X_test)\n",
    "\n",
    "# Evaluation\n",
    "print(\"\\nLasso Regression:\")\n",
    "print(\"MSE:\", metrics.mean_squared_error(y_test, y_pred_lasso))\n",
    "print(\"MAE:\", metrics.mean_absolute_error(y_test, y_pred_lasso))\n",
    "print(\"RMSE:\", np.sqrt(metrics.mean_squared_error(y_test, y_pred_lasso)))\n",
    "print(\"r2_score:\", metrics.r2_score(y_test, y_pred_lasso))\n"
   ],
   "id": "b9f1dca6abb9eb3",
   "outputs": [],
   "execution_count": null
  },
  {
   "metadata": {},
   "cell_type": "code",
   "source": "",
   "id": "e2bad53be7385759",
   "outputs": [],
   "execution_count": null
  }
 ],
 "metadata": {
  "kernelspec": {
   "display_name": "Python 3",
   "language": "python",
   "name": "python3"
  },
  "language_info": {
   "codemirror_mode": {
    "name": "ipython",
    "version": 3
   },
   "file_extension": ".py",
   "mimetype": "text/x-python",
   "name": "python",
   "nbconvert_exporter": "python",
   "pygments_lexer": "ipython3",
   "version": "3.10.2"
  }
 },
 "nbformat": 4,
 "nbformat_minor": 5
}
