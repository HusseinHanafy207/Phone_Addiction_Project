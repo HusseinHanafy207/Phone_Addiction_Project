{
 "cells": [
  {
   "cell_type": "code",
   "id": "initial_id",
   "metadata": {
    "collapsed": true,
    "ExecuteTime": {
     "end_time": "2025-04-20T08:06:29.512325Z",
     "start_time": "2025-04-20T08:06:29.507768Z"
    }
   },
   "source": [
    "import pandas as pd\n",
    "import numpy as np"
   ],
   "outputs": [],
   "execution_count": 22
  },
  {
   "metadata": {
    "ExecuteTime": {
     "end_time": "2025-04-20T08:06:29.956562Z",
     "start_time": "2025-04-20T08:06:29.948034Z"
    }
   },
   "cell_type": "code",
   "source": [
    "#read the data\n",
    "data = pd.read_csv('phone usage data.csv',encoding='utf-8')"
   ],
   "id": "46cf6689bb86bdbf",
   "outputs": [],
   "execution_count": 23
  },
  {
   "metadata": {
    "ExecuteTime": {
     "end_time": "2025-04-20T08:06:30.452264Z",
     "start_time": "2025-04-20T08:06:30.442363Z"
    }
   },
   "cell_type": "code",
   "source": [
    "'''------------------------------- Scaling Starts -----------------------------------------------'''\n",
    "from sklearn.preprocessing import MinMaxScaler\n",
    "scaler = MinMaxScaler()\n",
    "\n",
    "numerical_cols = ['Age']\n",
    "\n",
    "data[numerical_cols] = scaler.fit_transform(data[numerical_cols])\n",
    "\n",
    "'''------------------------------- Scaling Ends -----------------------------------------------'''\n"
   ],
   "id": "c2e33914b3f6dc2c",
   "outputs": [
    {
     "data": {
      "text/plain": [
       "'------------------------------- Scaling Ends -----------------------------------------------'"
      ]
     },
     "execution_count": 24,
     "metadata": {},
     "output_type": "execute_result"
    }
   ],
   "execution_count": 24
  },
  {
   "metadata": {
    "ExecuteTime": {
     "end_time": "2025-04-20T08:06:31.199211Z",
     "start_time": "2025-04-20T08:06:31.174026Z"
    }
   },
   "cell_type": "code",
   "source": [
    "'''--------------------------------------------Encoding Starts--------------------------------------------'''\n",
    "binary_cols = [\n",
    "    'Do you check your screen time stats regularly?',\n",
    "    'Have you ever used any app to try to reduce your screen time?',\n",
    "    'Do you usually scroll on your phone before going to bed?',\n",
    "    'Do you currently have a job? (Part-time or Full-time)'\n",
    "]\n",
    "for col in binary_cols:\n",
    "    data[col] = data[col].map({'Yes': 1, 'No': 0})\n",
    "\n",
    "\n",
    "hours_mapping = {'1-3 hours': 1, '4-6 hours': 2, '7-9 hours': 3, '10+ hours': 4}\n",
    "data['On average, how many hours a day do you spend on your phone?'] = data[\n",
    "    'On average, how many hours a day do you spend on your phone?'].map(hours_mapping)\n",
    "\n",
    "\n",
    "short_video_mapping = {\n",
    "    \"I don't watch short-video content\": 0,\n",
    "    'A little of my phone usage': 1,\n",
    "    'Some of my phone usage': 2,\n",
    "    'Most of my phone usage': 3\n",
    "}\n",
    "data['How much short-video content (TikTok, Reels, Shorts) do you watch?'] = data[\n",
    "    'How much short-video content (TikTok, Reels, Shorts) do you watch?'].map(short_video_mapping)\n",
    "\n",
    "focus_mapping = {\n",
    "    'Less than 10 minutes': 0,\n",
    "    '10-20 minutes': 1,\n",
    "    '20-40 minutes': 2,\n",
    "    'Over 40 minutes': 3,\n",
    "    \"I don't usually feel that urge\": 4\n",
    "}\n",
    "data['How long can you focus on a single task (like studying or reading) before feeling the urge to check your phone?'] = data[\n",
    "    'How long can you focus on a single task (like studying or reading) before feeling the urge to check your phone?'].map(focus_mapping)\n",
    "\n",
    "\n",
    "reread_mapping = {'No': 0, 'Rarely': 1, 'Sometimes': 2, 'Yes, often': 3}\n",
    "data['Have you ever re-read the same paragraph or page multiple times because your mind wandered?'] = data[\n",
    "    'Have you ever re-read the same paragraph or page multiple times because your mind wandered?'].map(reread_mapping)\n",
    "\n",
    "\n",
    "gpa_mapping = {\n",
    "    'Less than 2.0 (Poor)': 0,\n",
    "    '2.0-2.5 (Satisfactory)': 1,\n",
    "    '2.5-3.0 (Good)': 2,\n",
    "    '3.0-3.5 (Very good)': 3,\n",
    "    '3.5 or Higher (Excellent)': 4\n",
    "}\n",
    "data['What is your GPA or grade (Excellent, Very good, Good, etc.)?'] = data[\n",
    "    'What is your GPA or grade (Excellent, Very good, Good, etc.)?'].map(gpa_mapping)\n",
    "\n",
    "\n",
    "\n",
    "data = pd.get_dummies(data, columns=['Gender'], prefix='Gender')\n",
    "\n",
    "\n",
    "app_categories = [\n",
    "    'Social Media (Instagram, Facebook, TikTok, etc.)', 'Texting', 'Streaming and Videos (YouTube, Netflix, Shahid, etc.)',\n",
    "    'Study or Work related (Canvas, Notion, LinkedIn, etc.)', 'Gaming', 'Shopping (Amazon, Noon, Jumia, etc.)'\n",
    "]\n",
    "for app in app_categories:\n",
    "    data[f'App_{app}'] = data['What apps do you spend the most time on? (Pick no more than 3)'].apply(\n",
    "        lambda x: 1 if app in str(x) else 0)\n",
    "\n",
    "\n",
    "data.drop('What apps do you spend the most time on? (Pick no more than 3)', axis=1, inplace=True)\n",
    "\n",
    "\n",
    "data.to_csv('preprocessed_phone_usage_data.csv', index=False)\n",
    "\n",
    "'''--------------------------------------------Encoding Ends--------------------------------------------'''\n"
   ],
   "id": "e764e77aa8d58099",
   "outputs": [
    {
     "data": {
      "text/plain": [
       "'--------------------------------------------Encoding Ends--------------------------------------------'"
      ]
     },
     "execution_count": 25,
     "metadata": {},
     "output_type": "execute_result"
    }
   ],
   "execution_count": 25
  },
  {
   "metadata": {
    "ExecuteTime": {
     "end_time": "2025-04-20T08:06:31.994823Z",
     "start_time": "2025-04-20T08:06:31.979544Z"
    }
   },
   "cell_type": "code",
   "source": "data.head()",
   "id": "587b99270aa3fcae",
   "outputs": [
    {
     "data": {
      "text/plain": [
       "      Age  On average, how many hours a day do you spend on your phone?  \\\n",
       "0  0.1875                                                  3              \n",
       "1  0.1250                                                  3              \n",
       "2  0.1875                                                  4              \n",
       "3  0.2500                                                  2              \n",
       "4  0.2500                                                  2              \n",
       "\n",
       "   Do you check your screen time stats regularly?  \\\n",
       "0                                               1   \n",
       "1                                               1   \n",
       "2                                               0   \n",
       "3                                               1   \n",
       "4                                               1   \n",
       "\n",
       "   How satisfied are you with your phone usage?  \\\n",
       "0                                             2   \n",
       "1                                             1   \n",
       "2                                             1   \n",
       "3                                             4   \n",
       "4                                             2   \n",
       "\n",
       "   Have you ever used any app to try to reduce your screen time?  \\\n",
       "0                                                  1               \n",
       "1                                                  1               \n",
       "2                                                  1               \n",
       "3                                                  1               \n",
       "4                                                  0               \n",
       "\n",
       "   How often do you check you phone first thing when you wake up?  \\\n",
       "0                                                  5                \n",
       "1                                                  5                \n",
       "2                                                  4                \n",
       "3                                                  3                \n",
       "4                                                  5                \n",
       "\n",
       "   Do you usually scroll on your phone before going to bed?  \\\n",
       "0                                                  1          \n",
       "1                                                  1          \n",
       "2                                                  1          \n",
       "3                                                  1          \n",
       "4                                                  1          \n",
       "\n",
       "   Do you think your phone hurts your academic performance?  \\\n",
       "0                                                  4          \n",
       "1                                                  3          \n",
       "2                                                  5          \n",
       "3                                                  4          \n",
       "4                                                  4          \n",
       "\n",
       "   Have you ever caught yourself scrolling endlessly with no purpose?  \\\n",
       "0                                                  5                    \n",
       "1                                                  5                    \n",
       "2                                                  5                    \n",
       "3                                                  3                    \n",
       "4                                                  4                    \n",
       "\n",
       "   How much short-video content (TikTok, Reels, Shorts) do you watch?  ...  \\\n",
       "0                                                  2                   ...   \n",
       "1                                                  3                   ...   \n",
       "2                                                  3                   ...   \n",
       "3                                                  2                   ...   \n",
       "4                                                  2                   ...   \n",
       "\n",
       "   What is your GPA or grade (Excellent, Very good, Good, etc.)?  \\\n",
       "0                                                4.0               \n",
       "1                                                4.0               \n",
       "2                                                1.0               \n",
       "3                                                2.0               \n",
       "4                                                4.0               \n",
       "\n",
       "   Do you currently have a job? (Part-time or Full-time)  Gender_Female  \\\n",
       "0                                                0.0              False   \n",
       "1                                                0.0              False   \n",
       "2                                                0.0              False   \n",
       "3                                                1.0              False   \n",
       "4                                                0.0               True   \n",
       "\n",
       "   Gender_Male  App_Social Media (Instagram, Facebook, TikTok, etc.)  \\\n",
       "0         True                                                  1      \n",
       "1         True                                                  1      \n",
       "2         True                                                  1      \n",
       "3         True                                                  1      \n",
       "4        False                                                  1      \n",
       "\n",
       "   App_Texting  App_Streaming and Videos (YouTube, Netflix, Shahid, etc.)  \\\n",
       "0            1                                                  1           \n",
       "1            1                                                  1           \n",
       "2            1                                                  0           \n",
       "3            1                                                  1           \n",
       "4            0                                                  1           \n",
       "\n",
       "   App_Study or Work related (Canvas, Notion, LinkedIn, etc.)  App_Gaming  \\\n",
       "0                                                  0                    0   \n",
       "1                                                  1                    0   \n",
       "2                                                  0                    1   \n",
       "3                                                  0                    0   \n",
       "4                                                  0                    0   \n",
       "\n",
       "   App_Shopping (Amazon, Noon, Jumia, etc.)  \n",
       "0                                         0  \n",
       "1                                         0  \n",
       "2                                         0  \n",
       "3                                         0  \n",
       "4                                         0  \n",
       "\n",
       "[5 rows x 22 columns]"
      ],
      "text/html": [
       "<div>\n",
       "<style scoped>\n",
       "    .dataframe tbody tr th:only-of-type {\n",
       "        vertical-align: middle;\n",
       "    }\n",
       "\n",
       "    .dataframe tbody tr th {\n",
       "        vertical-align: top;\n",
       "    }\n",
       "\n",
       "    .dataframe thead th {\n",
       "        text-align: right;\n",
       "    }\n",
       "</style>\n",
       "<table border=\"1\" class=\"dataframe\">\n",
       "  <thead>\n",
       "    <tr style=\"text-align: right;\">\n",
       "      <th></th>\n",
       "      <th>Age</th>\n",
       "      <th>On average, how many hours a day do you spend on your phone?</th>\n",
       "      <th>Do you check your screen time stats regularly?</th>\n",
       "      <th>How satisfied are you with your phone usage?</th>\n",
       "      <th>Have you ever used any app to try to reduce your screen time?</th>\n",
       "      <th>How often do you check you phone first thing when you wake up?</th>\n",
       "      <th>Do you usually scroll on your phone before going to bed?</th>\n",
       "      <th>Do you think your phone hurts your academic performance?</th>\n",
       "      <th>Have you ever caught yourself scrolling endlessly with no purpose?</th>\n",
       "      <th>How much short-video content (TikTok, Reels, Shorts) do you watch?</th>\n",
       "      <th>...</th>\n",
       "      <th>What is your GPA or grade (Excellent, Very good, Good, etc.)?</th>\n",
       "      <th>Do you currently have a job? (Part-time or Full-time)</th>\n",
       "      <th>Gender_Female</th>\n",
       "      <th>Gender_Male</th>\n",
       "      <th>App_Social Media (Instagram, Facebook, TikTok, etc.)</th>\n",
       "      <th>App_Texting</th>\n",
       "      <th>App_Streaming and Videos (YouTube, Netflix, Shahid, etc.)</th>\n",
       "      <th>App_Study or Work related (Canvas, Notion, LinkedIn, etc.)</th>\n",
       "      <th>App_Gaming</th>\n",
       "      <th>App_Shopping (Amazon, Noon, Jumia, etc.)</th>\n",
       "    </tr>\n",
       "  </thead>\n",
       "  <tbody>\n",
       "    <tr>\n",
       "      <th>0</th>\n",
       "      <td>0.1875</td>\n",
       "      <td>3</td>\n",
       "      <td>1</td>\n",
       "      <td>2</td>\n",
       "      <td>1</td>\n",
       "      <td>5</td>\n",
       "      <td>1</td>\n",
       "      <td>4</td>\n",
       "      <td>5</td>\n",
       "      <td>2</td>\n",
       "      <td>...</td>\n",
       "      <td>4.0</td>\n",
       "      <td>0.0</td>\n",
       "      <td>False</td>\n",
       "      <td>True</td>\n",
       "      <td>1</td>\n",
       "      <td>1</td>\n",
       "      <td>1</td>\n",
       "      <td>0</td>\n",
       "      <td>0</td>\n",
       "      <td>0</td>\n",
       "    </tr>\n",
       "    <tr>\n",
       "      <th>1</th>\n",
       "      <td>0.1250</td>\n",
       "      <td>3</td>\n",
       "      <td>1</td>\n",
       "      <td>1</td>\n",
       "      <td>1</td>\n",
       "      <td>5</td>\n",
       "      <td>1</td>\n",
       "      <td>3</td>\n",
       "      <td>5</td>\n",
       "      <td>3</td>\n",
       "      <td>...</td>\n",
       "      <td>4.0</td>\n",
       "      <td>0.0</td>\n",
       "      <td>False</td>\n",
       "      <td>True</td>\n",
       "      <td>1</td>\n",
       "      <td>1</td>\n",
       "      <td>1</td>\n",
       "      <td>1</td>\n",
       "      <td>0</td>\n",
       "      <td>0</td>\n",
       "    </tr>\n",
       "    <tr>\n",
       "      <th>2</th>\n",
       "      <td>0.1875</td>\n",
       "      <td>4</td>\n",
       "      <td>0</td>\n",
       "      <td>1</td>\n",
       "      <td>1</td>\n",
       "      <td>4</td>\n",
       "      <td>1</td>\n",
       "      <td>5</td>\n",
       "      <td>5</td>\n",
       "      <td>3</td>\n",
       "      <td>...</td>\n",
       "      <td>1.0</td>\n",
       "      <td>0.0</td>\n",
       "      <td>False</td>\n",
       "      <td>True</td>\n",
       "      <td>1</td>\n",
       "      <td>1</td>\n",
       "      <td>0</td>\n",
       "      <td>0</td>\n",
       "      <td>1</td>\n",
       "      <td>0</td>\n",
       "    </tr>\n",
       "    <tr>\n",
       "      <th>3</th>\n",
       "      <td>0.2500</td>\n",
       "      <td>2</td>\n",
       "      <td>1</td>\n",
       "      <td>4</td>\n",
       "      <td>1</td>\n",
       "      <td>3</td>\n",
       "      <td>1</td>\n",
       "      <td>4</td>\n",
       "      <td>3</td>\n",
       "      <td>2</td>\n",
       "      <td>...</td>\n",
       "      <td>2.0</td>\n",
       "      <td>1.0</td>\n",
       "      <td>False</td>\n",
       "      <td>True</td>\n",
       "      <td>1</td>\n",
       "      <td>1</td>\n",
       "      <td>1</td>\n",
       "      <td>0</td>\n",
       "      <td>0</td>\n",
       "      <td>0</td>\n",
       "    </tr>\n",
       "    <tr>\n",
       "      <th>4</th>\n",
       "      <td>0.2500</td>\n",
       "      <td>2</td>\n",
       "      <td>1</td>\n",
       "      <td>2</td>\n",
       "      <td>0</td>\n",
       "      <td>5</td>\n",
       "      <td>1</td>\n",
       "      <td>4</td>\n",
       "      <td>4</td>\n",
       "      <td>2</td>\n",
       "      <td>...</td>\n",
       "      <td>4.0</td>\n",
       "      <td>0.0</td>\n",
       "      <td>True</td>\n",
       "      <td>False</td>\n",
       "      <td>1</td>\n",
       "      <td>0</td>\n",
       "      <td>1</td>\n",
       "      <td>0</td>\n",
       "      <td>0</td>\n",
       "      <td>0</td>\n",
       "    </tr>\n",
       "  </tbody>\n",
       "</table>\n",
       "<p>5 rows × 22 columns</p>\n",
       "</div>"
      ]
     },
     "execution_count": 26,
     "metadata": {},
     "output_type": "execute_result"
    }
   ],
   "execution_count": 26
  },
  {
   "metadata": {
    "ExecuteTime": {
     "end_time": "2025-04-20T08:06:32.657261Z",
     "start_time": "2025-04-20T08:06:32.651704Z"
    }
   },
   "cell_type": "code",
   "source": "data.shape",
   "id": "27f427c064b4dda9",
   "outputs": [
    {
     "data": {
      "text/plain": [
       "(88, 22)"
      ]
     },
     "execution_count": 27,
     "metadata": {},
     "output_type": "execute_result"
    }
   ],
   "execution_count": 27
  },
  {
   "metadata": {
    "ExecuteTime": {
     "end_time": "2025-04-20T08:06:47.390268Z",
     "start_time": "2025-04-20T08:06:34.002662Z"
    }
   },
   "cell_type": "code",
   "source": [
    "from sdv.single_table import CTGANSynthesizer\n",
    "from sdv.metadata import SingleTableMetadata\n",
    "\n",
    "# Load data\n",
    "df = pd.read_csv(\"preprocessed_phone_usage_data.csv\")\n",
    "\n",
    "# Auto-detect metadata\n",
    "metadata = SingleTableMetadata()\n",
    "metadata.detect_from_dataframe(df)\n",
    "\n",
    "# Initialize with metadata\n",
    "model = CTGANSynthesizer(metadata)\n",
    "model.fit(df)\n",
    "\n",
    "synthetic_data = model.sample(1000)\n",
    "synthetic_data.to_csv(\"synthetic_phone_usage.csv\", index=False)"
   ],
   "id": "3dfbb977c5d2379a",
   "outputs": [
    {
     "name": "stderr",
     "output_type": "stream",
     "text": [
      "C:\\Users\\Computer Store\\venv\\Lib\\site-packages\\sdv\\single_table\\base.py:126: FutureWarning: The 'SingleTableMetadata' is deprecated. Please use the new 'Metadata' class for synthesizers.\n",
      "  warnings.warn(DEPRECATION_MSG, FutureWarning)\n",
      "C:\\Users\\Computer Store\\venv\\Lib\\site-packages\\sdv\\single_table\\base.py:105: UserWarning: We strongly recommend saving the metadata using 'save_to_json' for replicability in future SDV versions.\n",
      "  warnings.warn(\n"
     ]
    }
   ],
   "execution_count": 28
  },
  {
   "metadata": {
    "ExecuteTime": {
     "end_time": "2025-04-20T08:06:49.277255Z",
     "start_time": "2025-04-20T08:06:49.257718Z"
    }
   },
   "cell_type": "code",
   "source": "synthetic_data.shape",
   "id": "a52de6bc2cfb3ef4",
   "outputs": [
    {
     "data": {
      "text/plain": [
       "(1000, 22)"
      ]
     },
     "execution_count": 29,
     "metadata": {},
     "output_type": "execute_result"
    }
   ],
   "execution_count": 29
  },
  {
   "metadata": {},
   "cell_type": "code",
   "outputs": [],
   "execution_count": null,
   "source": "",
   "id": "b99fb122c84993e1"
  }
 ],
 "metadata": {
  "kernelspec": {
   "display_name": "Python 3",
   "language": "python",
   "name": "python3"
  },
  "language_info": {
   "codemirror_mode": {
    "name": "ipython",
    "version": 2
   },
   "file_extension": ".py",
   "mimetype": "text/x-python",
   "name": "python",
   "nbconvert_exporter": "python",
   "pygments_lexer": "ipython2",
   "version": "2.7.6"
  }
 },
 "nbformat": 4,
 "nbformat_minor": 5
}
